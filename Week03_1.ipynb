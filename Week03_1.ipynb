{
 "cells": [
  {
   "cell_type": "code",
   "execution_count": 1,
   "id": "be6d292d-dae2-4e90-bec0-efdb0f7440ac",
   "metadata": {},
   "outputs": [],
   "source": [
    "import pandas as pd\n",
    "import numpy as np"
   ]
  },
  {
   "cell_type": "code",
   "execution_count": 2,
   "id": "e7ac145d-b260-43cb-ad90-751cbbec0c37",
   "metadata": {},
   "outputs": [],
   "source": [
    "df = pd.DataFrame()"
   ]
  },
  {
   "cell_type": "code",
   "execution_count": 3,
   "id": "b1ee6900-fc8f-4107-a5f9-80953301b2aa",
   "metadata": {},
   "outputs": [
    {
     "data": {
      "text/html": [
       "<div>\n",
       "<style scoped>\n",
       "    .dataframe tbody tr th:only-of-type {\n",
       "        vertical-align: middle;\n",
       "    }\n",
       "\n",
       "    .dataframe tbody tr th {\n",
       "        vertical-align: top;\n",
       "    }\n",
       "\n",
       "    .dataframe thead th {\n",
       "        text-align: right;\n",
       "    }\n",
       "</style>\n",
       "<table border=\"1\" class=\"dataframe\">\n",
       "  <thead>\n",
       "    <tr style=\"text-align: right;\">\n",
       "      <th></th>\n",
       "    </tr>\n",
       "  </thead>\n",
       "  <tbody>\n",
       "  </tbody>\n",
       "</table>\n",
       "</div>"
      ],
      "text/plain": [
       "Empty DataFrame\n",
       "Columns: []\n",
       "Index: []"
      ]
     },
     "execution_count": 3,
     "metadata": {},
     "output_type": "execute_result"
    }
   ],
   "source": [
    "df"
   ]
  },
  {
   "cell_type": "code",
   "execution_count": 4,
   "id": "59bf6528-bf4b-40a3-a24d-ce194cd78e33",
   "metadata": {},
   "outputs": [],
   "source": [
    "column_names = [\"Customer\", \"Account\", \"Balance\"]\n",
    "\n",
    "bank_accounts = [[\"Customer1\", \"40817810...\", 1344.],\n",
    "                 [\"Customer2\", \"40817840...\", 13435444.],\n",
    "                 [\"Customer3\", \"40817978...\", 134354.]]"
   ]
  },
  {
   "cell_type": "code",
   "execution_count": 6,
   "id": "69450287-6c52-411b-b4f4-45dc29907b46",
   "metadata": {},
   "outputs": [
    {
     "data": {
      "text/plain": [
       "list"
      ]
     },
     "execution_count": 6,
     "metadata": {},
     "output_type": "execute_result"
    }
   ],
   "source": [
    "type(bank_accounts)"
   ]
  },
  {
   "cell_type": "code",
   "execution_count": 7,
   "id": "59daee7d-b5e9-4052-be05-a762b6c186e9",
   "metadata": {},
   "outputs": [
    {
     "data": {
      "text/html": [
       "<div>\n",
       "<style scoped>\n",
       "    .dataframe tbody tr th:only-of-type {\n",
       "        vertical-align: middle;\n",
       "    }\n",
       "\n",
       "    .dataframe tbody tr th {\n",
       "        vertical-align: top;\n",
       "    }\n",
       "\n",
       "    .dataframe thead th {\n",
       "        text-align: right;\n",
       "    }\n",
       "</style>\n",
       "<table border=\"1\" class=\"dataframe\">\n",
       "  <thead>\n",
       "    <tr style=\"text-align: right;\">\n",
       "      <th></th>\n",
       "      <th>Customer</th>\n",
       "      <th>Account</th>\n",
       "      <th>Balance</th>\n",
       "    </tr>\n",
       "  </thead>\n",
       "  <tbody>\n",
       "    <tr>\n",
       "      <th>0</th>\n",
       "      <td>Customer1</td>\n",
       "      <td>40817810...</td>\n",
       "      <td>1344.0</td>\n",
       "    </tr>\n",
       "    <tr>\n",
       "      <th>1</th>\n",
       "      <td>Customer2</td>\n",
       "      <td>40817840...</td>\n",
       "      <td>13435444.0</td>\n",
       "    </tr>\n",
       "    <tr>\n",
       "      <th>2</th>\n",
       "      <td>Customer3</td>\n",
       "      <td>40817978...</td>\n",
       "      <td>134354.0</td>\n",
       "    </tr>\n",
       "  </tbody>\n",
       "</table>\n",
       "</div>"
      ],
      "text/plain": [
       "    Customer      Account     Balance\n",
       "0  Customer1  40817810...      1344.0\n",
       "1  Customer2  40817840...  13435444.0\n",
       "2  Customer3  40817978...    134354.0"
      ]
     },
     "execution_count": 7,
     "metadata": {},
     "output_type": "execute_result"
    }
   ],
   "source": [
    "df = pd.DataFrame(bank_accounts, columns=column_names)\n",
    "df"
   ]
  },
  {
   "cell_type": "code",
   "execution_count": 8,
   "id": "f5815734-eeb8-4a8b-86c6-ec9ddb70f389",
   "metadata": {},
   "outputs": [],
   "source": [
    "bank_accounts = [{\"Customer\":\"Customer1\", \"Account\":\"40817810...\", \"Balance\":1344.},\n",
    "                 {\"Customer\":\"Customer2\", \"Account\":\"40817840...\", \"Balance\":13435444.},\n",
    "                 {\"Customer\":\"Customer3\", \"Account\":\"40817978...\", \"Balance\":134354.}]"
   ]
  },
  {
   "cell_type": "code",
   "execution_count": 9,
   "id": "e74686d0-3153-4e8f-b109-c569e145c6b5",
   "metadata": {},
   "outputs": [
    {
     "data": {
      "text/html": [
       "<div>\n",
       "<style scoped>\n",
       "    .dataframe tbody tr th:only-of-type {\n",
       "        vertical-align: middle;\n",
       "    }\n",
       "\n",
       "    .dataframe tbody tr th {\n",
       "        vertical-align: top;\n",
       "    }\n",
       "\n",
       "    .dataframe thead th {\n",
       "        text-align: right;\n",
       "    }\n",
       "</style>\n",
       "<table border=\"1\" class=\"dataframe\">\n",
       "  <thead>\n",
       "    <tr style=\"text-align: right;\">\n",
       "      <th></th>\n",
       "      <th>Customer</th>\n",
       "      <th>Account</th>\n",
       "      <th>Balance</th>\n",
       "    </tr>\n",
       "  </thead>\n",
       "  <tbody>\n",
       "    <tr>\n",
       "      <th>0</th>\n",
       "      <td>Customer1</td>\n",
       "      <td>40817810...</td>\n",
       "      <td>1344.0</td>\n",
       "    </tr>\n",
       "    <tr>\n",
       "      <th>1</th>\n",
       "      <td>Customer2</td>\n",
       "      <td>40817840...</td>\n",
       "      <td>13435444.0</td>\n",
       "    </tr>\n",
       "    <tr>\n",
       "      <th>2</th>\n",
       "      <td>Customer3</td>\n",
       "      <td>40817978...</td>\n",
       "      <td>134354.0</td>\n",
       "    </tr>\n",
       "  </tbody>\n",
       "</table>\n",
       "</div>"
      ],
      "text/plain": [
       "    Customer      Account     Balance\n",
       "0  Customer1  40817810...      1344.0\n",
       "1  Customer2  40817840...  13435444.0\n",
       "2  Customer3  40817978...    134354.0"
      ]
     },
     "execution_count": 9,
     "metadata": {},
     "output_type": "execute_result"
    }
   ],
   "source": [
    "df = pd.DataFrame(bank_accounts)\n",
    "df"
   ]
  },
  {
   "cell_type": "code",
   "execution_count": 10,
   "id": "a5084acc-b45d-4187-ad83-529fa7a4a2c7",
   "metadata": {},
   "outputs": [
    {
     "data": {
      "text/html": [
       "<div>\n",
       "<style scoped>\n",
       "    .dataframe tbody tr th:only-of-type {\n",
       "        vertical-align: middle;\n",
       "    }\n",
       "\n",
       "    .dataframe tbody tr th {\n",
       "        vertical-align: top;\n",
       "    }\n",
       "\n",
       "    .dataframe thead th {\n",
       "        text-align: right;\n",
       "    }\n",
       "</style>\n",
       "<table border=\"1\" class=\"dataframe\">\n",
       "  <thead>\n",
       "    <tr style=\"text-align: right;\">\n",
       "      <th></th>\n",
       "      <th>Customer</th>\n",
       "      <th>Account</th>\n",
       "      <th>Balance</th>\n",
       "    </tr>\n",
       "  </thead>\n",
       "  <tbody>\n",
       "    <tr>\n",
       "      <th>0</th>\n",
       "      <td>Customer1</td>\n",
       "      <td>40817810...</td>\n",
       "      <td>1344.0</td>\n",
       "    </tr>\n",
       "    <tr>\n",
       "      <th>1</th>\n",
       "      <td>Customer2</td>\n",
       "      <td>40817840...</td>\n",
       "      <td>13435444.0</td>\n",
       "    </tr>\n",
       "    <tr>\n",
       "      <th>2</th>\n",
       "      <td>Customer3</td>\n",
       "      <td>40817978...</td>\n",
       "      <td>134354.0</td>\n",
       "    </tr>\n",
       "  </tbody>\n",
       "</table>\n",
       "</div>"
      ],
      "text/plain": [
       "    Customer      Account     Balance\n",
       "0  Customer1  40817810...      1344.0\n",
       "1  Customer2  40817840...  13435444.0\n",
       "2  Customer3  40817978...    134354.0"
      ]
     },
     "execution_count": 10,
     "metadata": {},
     "output_type": "execute_result"
    }
   ],
   "source": [
    "bank_accounts = {\"Customer\":[\"Customer1\", \"Customer2\", \"Customer3\"],\n",
    "                \"Account\":[\"40817810...\", \"40817840...\", \"40817978...\"],\n",
    "                \"Balance\":[1344., 13435444., 134354.]}\n",
    "\n",
    "df = pd.DataFrame(bank_accounts)\n",
    "df"
   ]
  },
  {
   "cell_type": "code",
   "execution_count": 11,
   "id": "92ff19c0-515c-44e4-b0a8-a5f647ccf7c5",
   "metadata": {},
   "outputs": [
    {
     "data": {
      "text/plain": [
       "0    40817810...\n",
       "1    40817840...\n",
       "2    40817978...\n",
       "Name: Account, dtype: object"
      ]
     },
     "execution_count": 11,
     "metadata": {},
     "output_type": "execute_result"
    }
   ],
   "source": [
    "df[\"Account\"]"
   ]
  },
  {
   "cell_type": "code",
   "execution_count": 12,
   "id": "ec790b76-62aa-4755-83d5-8cf78a48c772",
   "metadata": {},
   "outputs": [
    {
     "data": {
      "text/plain": [
       "Index(['Customer', 'Account', 'Balance'], dtype='object')"
      ]
     },
     "execution_count": 12,
     "metadata": {},
     "output_type": "execute_result"
    }
   ],
   "source": [
    "df.columns"
   ]
  },
  {
   "cell_type": "code",
   "execution_count": 13,
   "id": "59f1fcf7-ed29-4446-8468-1087d5c92eae",
   "metadata": {},
   "outputs": [],
   "source": [
    "df.columns = ['Customer Name', 'Account', 'Balance']"
   ]
  },
  {
   "cell_type": "code",
   "execution_count": 14,
   "id": "23b51094-bc0e-47c9-8dd4-1e9aa2c20124",
   "metadata": {},
   "outputs": [
    {
     "data": {
      "text/html": [
       "<div>\n",
       "<style scoped>\n",
       "    .dataframe tbody tr th:only-of-type {\n",
       "        vertical-align: middle;\n",
       "    }\n",
       "\n",
       "    .dataframe tbody tr th {\n",
       "        vertical-align: top;\n",
       "    }\n",
       "\n",
       "    .dataframe thead th {\n",
       "        text-align: right;\n",
       "    }\n",
       "</style>\n",
       "<table border=\"1\" class=\"dataframe\">\n",
       "  <thead>\n",
       "    <tr style=\"text-align: right;\">\n",
       "      <th></th>\n",
       "      <th>Customer Name</th>\n",
       "      <th>Account</th>\n",
       "      <th>Balance</th>\n",
       "    </tr>\n",
       "  </thead>\n",
       "  <tbody>\n",
       "    <tr>\n",
       "      <th>0</th>\n",
       "      <td>Customer1</td>\n",
       "      <td>40817810...</td>\n",
       "      <td>1344.0</td>\n",
       "    </tr>\n",
       "    <tr>\n",
       "      <th>1</th>\n",
       "      <td>Customer2</td>\n",
       "      <td>40817840...</td>\n",
       "      <td>13435444.0</td>\n",
       "    </tr>\n",
       "    <tr>\n",
       "      <th>2</th>\n",
       "      <td>Customer3</td>\n",
       "      <td>40817978...</td>\n",
       "      <td>134354.0</td>\n",
       "    </tr>\n",
       "  </tbody>\n",
       "</table>\n",
       "</div>"
      ],
      "text/plain": [
       "  Customer Name      Account     Balance\n",
       "0     Customer1  40817810...      1344.0\n",
       "1     Customer2  40817840...  13435444.0\n",
       "2     Customer3  40817978...    134354.0"
      ]
     },
     "execution_count": 14,
     "metadata": {},
     "output_type": "execute_result"
    }
   ],
   "source": [
    "df"
   ]
  },
  {
   "cell_type": "code",
   "execution_count": 15,
   "id": "d4ec7a80-3bbf-41f3-adfb-25582a322359",
   "metadata": {},
   "outputs": [
    {
     "data": {
      "text/plain": [
       "0    40817810...\n",
       "1    40817840...\n",
       "2    40817978...\n",
       "Name: Account, dtype: object"
      ]
     },
     "execution_count": 15,
     "metadata": {},
     "output_type": "execute_result"
    }
   ],
   "source": [
    "df.__getitem__(\"Account\")"
   ]
  },
  {
   "cell_type": "code",
   "execution_count": 16,
   "id": "34245716-530d-4515-88bf-1a604904de38",
   "metadata": {
    "collapsed": true,
    "jupyter": {
     "outputs_hidden": true
    },
    "tags": []
   },
   "outputs": [
    {
     "ename": "KeyError",
     "evalue": "1",
     "output_type": "error",
     "traceback": [
      "\u001b[0;31m---------------------------------------------------------------------------\u001b[0m",
      "\u001b[0;31mKeyError\u001b[0m                                  Traceback (most recent call last)",
      "File \u001b[0;32m~/opt/anaconda3/lib/python3.9/site-packages/pandas/core/indexes/base.py:3629\u001b[0m, in \u001b[0;36mIndex.get_loc\u001b[0;34m(self, key, method, tolerance)\u001b[0m\n\u001b[1;32m   3628\u001b[0m \u001b[38;5;28;01mtry\u001b[39;00m:\n\u001b[0;32m-> 3629\u001b[0m     \u001b[38;5;28;01mreturn\u001b[39;00m \u001b[38;5;28;43mself\u001b[39;49m\u001b[38;5;241;43m.\u001b[39;49m\u001b[43m_engine\u001b[49m\u001b[38;5;241;43m.\u001b[39;49m\u001b[43mget_loc\u001b[49m\u001b[43m(\u001b[49m\u001b[43mcasted_key\u001b[49m\u001b[43m)\u001b[49m\n\u001b[1;32m   3630\u001b[0m \u001b[38;5;28;01mexcept\u001b[39;00m \u001b[38;5;167;01mKeyError\u001b[39;00m \u001b[38;5;28;01mas\u001b[39;00m err:\n",
      "File \u001b[0;32m~/opt/anaconda3/lib/python3.9/site-packages/pandas/_libs/index.pyx:136\u001b[0m, in \u001b[0;36mpandas._libs.index.IndexEngine.get_loc\u001b[0;34m()\u001b[0m\n",
      "File \u001b[0;32m~/opt/anaconda3/lib/python3.9/site-packages/pandas/_libs/index.pyx:163\u001b[0m, in \u001b[0;36mpandas._libs.index.IndexEngine.get_loc\u001b[0;34m()\u001b[0m\n",
      "File \u001b[0;32mpandas/_libs/hashtable_class_helper.pxi:5198\u001b[0m, in \u001b[0;36mpandas._libs.hashtable.PyObjectHashTable.get_item\u001b[0;34m()\u001b[0m\n",
      "File \u001b[0;32mpandas/_libs/hashtable_class_helper.pxi:5206\u001b[0m, in \u001b[0;36mpandas._libs.hashtable.PyObjectHashTable.get_item\u001b[0;34m()\u001b[0m\n",
      "\u001b[0;31mKeyError\u001b[0m: 1",
      "\nThe above exception was the direct cause of the following exception:\n",
      "\u001b[0;31mKeyError\u001b[0m                                  Traceback (most recent call last)",
      "Cell \u001b[0;32mIn [16], line 1\u001b[0m\n\u001b[0;32m----> 1\u001b[0m \u001b[43mdf\u001b[49m\u001b[43m[\u001b[49m\u001b[38;5;241;43m1\u001b[39;49m\u001b[43m]\u001b[49m\n",
      "File \u001b[0;32m~/opt/anaconda3/lib/python3.9/site-packages/pandas/core/frame.py:3505\u001b[0m, in \u001b[0;36mDataFrame.__getitem__\u001b[0;34m(self, key)\u001b[0m\n\u001b[1;32m   3503\u001b[0m \u001b[38;5;28;01mif\u001b[39;00m \u001b[38;5;28mself\u001b[39m\u001b[38;5;241m.\u001b[39mcolumns\u001b[38;5;241m.\u001b[39mnlevels \u001b[38;5;241m>\u001b[39m \u001b[38;5;241m1\u001b[39m:\n\u001b[1;32m   3504\u001b[0m     \u001b[38;5;28;01mreturn\u001b[39;00m \u001b[38;5;28mself\u001b[39m\u001b[38;5;241m.\u001b[39m_getitem_multilevel(key)\n\u001b[0;32m-> 3505\u001b[0m indexer \u001b[38;5;241m=\u001b[39m \u001b[38;5;28;43mself\u001b[39;49m\u001b[38;5;241;43m.\u001b[39;49m\u001b[43mcolumns\u001b[49m\u001b[38;5;241;43m.\u001b[39;49m\u001b[43mget_loc\u001b[49m\u001b[43m(\u001b[49m\u001b[43mkey\u001b[49m\u001b[43m)\u001b[49m\n\u001b[1;32m   3506\u001b[0m \u001b[38;5;28;01mif\u001b[39;00m is_integer(indexer):\n\u001b[1;32m   3507\u001b[0m     indexer \u001b[38;5;241m=\u001b[39m [indexer]\n",
      "File \u001b[0;32m~/opt/anaconda3/lib/python3.9/site-packages/pandas/core/indexes/base.py:3631\u001b[0m, in \u001b[0;36mIndex.get_loc\u001b[0;34m(self, key, method, tolerance)\u001b[0m\n\u001b[1;32m   3629\u001b[0m     \u001b[38;5;28;01mreturn\u001b[39;00m \u001b[38;5;28mself\u001b[39m\u001b[38;5;241m.\u001b[39m_engine\u001b[38;5;241m.\u001b[39mget_loc(casted_key)\n\u001b[1;32m   3630\u001b[0m \u001b[38;5;28;01mexcept\u001b[39;00m \u001b[38;5;167;01mKeyError\u001b[39;00m \u001b[38;5;28;01mas\u001b[39;00m err:\n\u001b[0;32m-> 3631\u001b[0m     \u001b[38;5;28;01mraise\u001b[39;00m \u001b[38;5;167;01mKeyError\u001b[39;00m(key) \u001b[38;5;28;01mfrom\u001b[39;00m \u001b[38;5;21;01merr\u001b[39;00m\n\u001b[1;32m   3632\u001b[0m \u001b[38;5;28;01mexcept\u001b[39;00m \u001b[38;5;167;01mTypeError\u001b[39;00m:\n\u001b[1;32m   3633\u001b[0m     \u001b[38;5;66;03m# If we have a listlike key, _check_indexing_error will raise\u001b[39;00m\n\u001b[1;32m   3634\u001b[0m     \u001b[38;5;66;03m#  InvalidIndexError. Otherwise we fall through and re-raise\u001b[39;00m\n\u001b[1;32m   3635\u001b[0m     \u001b[38;5;66;03m#  the TypeError.\u001b[39;00m\n\u001b[1;32m   3636\u001b[0m     \u001b[38;5;28mself\u001b[39m\u001b[38;5;241m.\u001b[39m_check_indexing_error(key)\n",
      "\u001b[0;31mKeyError\u001b[0m: 1"
     ]
    }
   ],
   "source": [
    "df[1]"
   ]
  },
  {
   "cell_type": "code",
   "execution_count": 26,
   "id": "ac4688e9-f9e3-440b-9dfa-f74114b8daf3",
   "metadata": {},
   "outputs": [
    {
     "name": "stdout",
     "output_type": "stream",
     "text": [
      "  Customer Name       Account     Balance\n",
      "0     Customer1   40817810...      1344.0\n",
      "1     Customer2  XXXXXXXXXXXX  13435444.0\n",
      "2     Customer3   40817978...    134354.0\n",
      "  Customer Name       Account     Balance\n",
      "0     Customer1   40817810...      1344.0\n",
      "1     Customer2  XXXXXXXXXXXX  13435444.0\n",
      "2     Customer3   40817978...    134354.0\n"
     ]
    },
    {
     "name": "stderr",
     "output_type": "stream",
     "text": [
      "/var/folders/rh/h38wf26j7bx6gw3hl1s3v3l00000gn/T/ipykernel_2537/3932240055.py:15: SettingWithCopyWarning: \n",
      "A value is trying to be set on a copy of a slice from a DataFrame\n",
      "\n",
      "See the caveats in the documentation: https://pandas.pydata.org/pandas-docs/stable/user_guide/indexing.html#returning-a-view-versus-a-copy\n",
      "  df3[\"Account\"][1] = \"XXXXXXXXXXXX\"\n"
     ]
    }
   ],
   "source": [
    "df\n",
    "df[[\"Account\"]]\n",
    "df[[\"Account\", \"Balance\"]]\n",
    "df[[\"Balance\", \"Account\"]]\n",
    "df.Balance\n",
    "df.Balance[1]\n",
    "\n",
    "#x = [1, 2, 3]\n",
    "#y = x\n",
    "\n",
    "df2 = df.copy()\n",
    "\n",
    "df3 = df2 #df3 is just a pointer\n",
    "\n",
    "df3[\"Account\"][1] = \"XXXXXXXXXXXX\"\n",
    "print(df3)\n",
    "print(df2)"
   ]
  },
  {
   "cell_type": "code",
   "execution_count": 42,
   "id": "5b9807e9-3dc7-407d-986b-d6b39b3dcb68",
   "metadata": {},
   "outputs": [
    {
     "data": {
      "text/html": [
       "<div>\n",
       "<style scoped>\n",
       "    .dataframe tbody tr th:only-of-type {\n",
       "        vertical-align: middle;\n",
       "    }\n",
       "\n",
       "    .dataframe tbody tr th {\n",
       "        vertical-align: top;\n",
       "    }\n",
       "\n",
       "    .dataframe thead th {\n",
       "        text-align: right;\n",
       "    }\n",
       "</style>\n",
       "<table border=\"1\" class=\"dataframe\">\n",
       "  <thead>\n",
       "    <tr style=\"text-align: right;\">\n",
       "      <th></th>\n",
       "      <th>Customer Name</th>\n",
       "      <th>Account</th>\n",
       "      <th>Balance</th>\n",
       "    </tr>\n",
       "  </thead>\n",
       "  <tbody>\n",
       "    <tr>\n",
       "      <th>2023Q1</th>\n",
       "      <td>Customer1</td>\n",
       "      <td>40817810...</td>\n",
       "      <td>1344.0</td>\n",
       "    </tr>\n",
       "    <tr>\n",
       "      <th>2023Q3</th>\n",
       "      <td>Customer3</td>\n",
       "      <td>40817978...</td>\n",
       "      <td>134354.0</td>\n",
       "    </tr>\n",
       "  </tbody>\n",
       "</table>\n",
       "</div>"
      ],
      "text/plain": [
       "       Customer Name      Account   Balance\n",
       "2023Q1     Customer1  40817810...    1344.0\n",
       "2023Q3     Customer3  40817978...  134354.0"
      ]
     },
     "execution_count": 42,
     "metadata": {},
     "output_type": "execute_result"
    }
   ],
   "source": [
    "df.index\n",
    "#df.columns\n",
    "df.index = [\"2023Q1\", \"2023Q2\", \"2023Q3\"]\n",
    "df\n",
    "df[\"2023Q2\":\"2023Q3\"]\n",
    "\n",
    "df.loc[:, \"Account\"]\n",
    "#df.loc[\"Account\"]\n",
    "df.loc[\"2023Q2\", :]\n",
    "df.loc[\"2023Q2\", \"Customer Name\"]\n",
    "df\n",
    "df.loc[\"2023Q2\", \"Customer Name\"]\n",
    "df.loc[\"2023Q2\":\"2023Q3\", \"Account\":\"Balance\"]\n",
    "df.loc[\"2023Q2\", [\"Customer Name\", \"Balance\"]]\n",
    "df.loc[[True, False, True]]"
   ]
  },
  {
   "cell_type": "code",
   "execution_count": 53,
   "id": "f670d391-032b-426c-b815-78673b2d77e5",
   "metadata": {},
   "outputs": [
    {
     "data": {
      "text/plain": [
       "2023Q1      1344.0\n",
       "2023Q3    134354.0\n",
       "Name: Balance, dtype: float64"
      ]
     },
     "execution_count": 53,
     "metadata": {},
     "output_type": "execute_result"
    }
   ],
   "source": [
    "df.iloc[1, 1]\n",
    "df.iloc[1, 0:2]\n",
    "df.iloc[1, :2]\n",
    "df.iloc[[1], [1]]\n",
    "df.iloc[[0, 2], [1, 2]]\n",
    "\n",
    "df.index[[0, 2]]\n",
    "df.loc[df.index[[0, 2]], \"Balance\"]"
   ]
  },
  {
   "cell_type": "code",
   "execution_count": 44,
   "id": "3e913079-0edf-4dd1-ab51-7fee79abd725",
   "metadata": {},
   "outputs": [
    {
     "data": {
      "text/html": [
       "<div>\n",
       "<style scoped>\n",
       "    .dataframe tbody tr th:only-of-type {\n",
       "        vertical-align: middle;\n",
       "    }\n",
       "\n",
       "    .dataframe tbody tr th {\n",
       "        vertical-align: top;\n",
       "    }\n",
       "\n",
       "    .dataframe thead th {\n",
       "        text-align: right;\n",
       "    }\n",
       "</style>\n",
       "<table border=\"1\" class=\"dataframe\">\n",
       "  <thead>\n",
       "    <tr style=\"text-align: right;\">\n",
       "      <th></th>\n",
       "      <th>Customer Name</th>\n",
       "      <th>Account</th>\n",
       "      <th>Balance</th>\n",
       "    </tr>\n",
       "  </thead>\n",
       "  <tbody>\n",
       "    <tr>\n",
       "      <th>2023Q1</th>\n",
       "      <td>Customer1</td>\n",
       "      <td>40817810...</td>\n",
       "      <td>1344.0</td>\n",
       "    </tr>\n",
       "    <tr>\n",
       "      <th>2023Q2</th>\n",
       "      <td>Customer2</td>\n",
       "      <td>40817840...</td>\n",
       "      <td>13435444.0</td>\n",
       "    </tr>\n",
       "    <tr>\n",
       "      <th>2023Q3</th>\n",
       "      <td>Customer3</td>\n",
       "      <td>40817978...</td>\n",
       "      <td>134354.0</td>\n",
       "    </tr>\n",
       "  </tbody>\n",
       "</table>\n",
       "</div>"
      ],
      "text/plain": [
       "       Customer Name      Account     Balance\n",
       "2023Q1     Customer1  40817810...      1344.0\n",
       "2023Q2     Customer2  40817840...  13435444.0\n",
       "2023Q3     Customer3  40817978...    134354.0"
      ]
     },
     "execution_count": 44,
     "metadata": {},
     "output_type": "execute_result"
    }
   ],
   "source": [
    "df"
   ]
  },
  {
   "cell_type": "code",
   "execution_count": 55,
   "id": "42aa29b6-8c6e-4166-a251-6151498d9d04",
   "metadata": {},
   "outputs": [
    {
     "data": {
      "text/plain": [
       "'40817840...'"
      ]
     },
     "execution_count": 55,
     "metadata": {},
     "output_type": "execute_result"
    }
   ],
   "source": [
    "df.at[\"2023Q1\", \"Account\"]\n",
    "df.iat[1, 1]"
   ]
  },
  {
   "cell_type": "code",
   "execution_count": 57,
   "id": "3e8c72c0-8789-4953-9221-b08bac92ab98",
   "metadata": {},
   "outputs": [
    {
     "data": {
      "text/html": [
       "<div>\n",
       "<style scoped>\n",
       "    .dataframe tbody tr th:only-of-type {\n",
       "        vertical-align: middle;\n",
       "    }\n",
       "\n",
       "    .dataframe tbody tr th {\n",
       "        vertical-align: top;\n",
       "    }\n",
       "\n",
       "    .dataframe thead th {\n",
       "        text-align: right;\n",
       "    }\n",
       "</style>\n",
       "<table border=\"1\" class=\"dataframe\">\n",
       "  <thead>\n",
       "    <tr style=\"text-align: right;\">\n",
       "      <th></th>\n",
       "      <th>Customer Name</th>\n",
       "      <th>Account</th>\n",
       "      <th>Balance</th>\n",
       "    </tr>\n",
       "  </thead>\n",
       "  <tbody>\n",
       "    <tr>\n",
       "      <th>2023Q1</th>\n",
       "      <td>XXXXXXX</td>\n",
       "      <td>40817810...</td>\n",
       "      <td>1344.0</td>\n",
       "    </tr>\n",
       "    <tr>\n",
       "      <th>2023Q2</th>\n",
       "      <td>Customer2</td>\n",
       "      <td>40817840...</td>\n",
       "      <td>13435444.0</td>\n",
       "    </tr>\n",
       "    <tr>\n",
       "      <th>2023Q3</th>\n",
       "      <td>Customer3</td>\n",
       "      <td>40817978...</td>\n",
       "      <td>134354.0</td>\n",
       "    </tr>\n",
       "  </tbody>\n",
       "</table>\n",
       "</div>"
      ],
      "text/plain": [
       "       Customer Name      Account     Balance\n",
       "2023Q1       XXXXXXX  40817810...      1344.0\n",
       "2023Q2     Customer2  40817840...  13435444.0\n",
       "2023Q3     Customer3  40817978...    134354.0"
      ]
     },
     "execution_count": 57,
     "metadata": {},
     "output_type": "execute_result"
    }
   ],
   "source": [
    "df\n",
    "df.iloc[0, 0] = \"XXXXXXX\"\n",
    "df"
   ]
  },
  {
   "cell_type": "code",
   "execution_count": 64,
   "id": "d52965c6-77c6-4592-aac1-af4a2b499a02",
   "metadata": {},
   "outputs": [
    {
     "data": {
      "text/plain": [
       "134354.0"
      ]
     },
     "execution_count": 64,
     "metadata": {},
     "output_type": "execute_result"
    }
   ],
   "source": [
    "df.columns.get_loc(\"Balance\")\n",
    "#df.columns.get_loc(\"NonExistentColumn\")\n",
    "df.columns.get_indexer([\"Balance\"])\n",
    "df.columns.get_indexer([\"NonExistentColumn\"])\n",
    "df.iloc[2, df.columns.get_loc(\"Balance\")]"
   ]
  },
  {
   "cell_type": "code",
   "execution_count": 88,
   "id": "9497fdd3-a711-4481-8b35-1bb5f2e86765",
   "metadata": {},
   "outputs": [
    {
     "data": {
      "text/html": [
       "<div>\n",
       "<style scoped>\n",
       "    .dataframe tbody tr th:only-of-type {\n",
       "        vertical-align: middle;\n",
       "    }\n",
       "\n",
       "    .dataframe tbody tr th {\n",
       "        vertical-align: top;\n",
       "    }\n",
       "\n",
       "    .dataframe thead th {\n",
       "        text-align: right;\n",
       "    }\n",
       "</style>\n",
       "<table border=\"1\" class=\"dataframe\">\n",
       "  <thead>\n",
       "    <tr style=\"text-align: right;\">\n",
       "      <th></th>\n",
       "      <th>Customer Name</th>\n",
       "      <th>Balance</th>\n",
       "    </tr>\n",
       "  </thead>\n",
       "  <tbody>\n",
       "    <tr>\n",
       "      <th>2023Q1</th>\n",
       "      <td>XXXXXXX</td>\n",
       "      <td>1344.0</td>\n",
       "    </tr>\n",
       "    <tr>\n",
       "      <th>2023Q2</th>\n",
       "      <td>Customer2</td>\n",
       "      <td>13435444.0</td>\n",
       "    </tr>\n",
       "    <tr>\n",
       "      <th>2023Q3</th>\n",
       "      <td>Customer3</td>\n",
       "      <td>134354.0</td>\n",
       "    </tr>\n",
       "  </tbody>\n",
       "</table>\n",
       "</div>"
      ],
      "text/plain": [
       "       Customer Name     Balance\n",
       "2023Q1       XXXXXXX      1344.0\n",
       "2023Q2     Customer2  13435444.0\n",
       "2023Q3     Customer3    134354.0"
      ]
     },
     "execution_count": 88,
     "metadata": {},
     "output_type": "execute_result"
    }
   ],
   "source": [
    "df.sample(n=2)\n",
    "df.sample(n=2, axis=1)\n",
    "df.sample(n=2, axis=1, random_state=45654)"
   ]
  },
  {
   "cell_type": "code",
   "execution_count": 99,
   "id": "5161e32c-a611-4f65-9c30-4b2c0267c441",
   "metadata": {},
   "outputs": [
    {
     "data": {
      "text/html": [
       "<div>\n",
       "<style scoped>\n",
       "    .dataframe tbody tr th:only-of-type {\n",
       "        vertical-align: middle;\n",
       "    }\n",
       "\n",
       "    .dataframe tbody tr th {\n",
       "        vertical-align: top;\n",
       "    }\n",
       "\n",
       "    .dataframe thead th {\n",
       "        text-align: right;\n",
       "    }\n",
       "</style>\n",
       "<table border=\"1\" class=\"dataframe\">\n",
       "  <thead>\n",
       "    <tr style=\"text-align: right;\">\n",
       "      <th></th>\n",
       "      <th>Customer Name</th>\n",
       "      <th>Account</th>\n",
       "      <th>Balance</th>\n",
       "    </tr>\n",
       "  </thead>\n",
       "  <tbody>\n",
       "    <tr>\n",
       "      <th>2023Q1</th>\n",
       "      <td>XXXXXXX</td>\n",
       "      <td>40817810...</td>\n",
       "      <td>1344.0</td>\n",
       "    </tr>\n",
       "  </tbody>\n",
       "</table>\n",
       "</div>"
      ],
      "text/plain": [
       "       Customer Name      Account  Balance\n",
       "2023Q1       XXXXXXX  40817810...   1344.0"
      ]
     },
     "execution_count": 99,
     "metadata": {},
     "output_type": "execute_result"
    }
   ],
   "source": [
    "df[df[\"Balance\"] < 500000].Account\n",
    "df[df.Balance < 500000].Account\n",
    "df.Account[df.Balance < 500000]\n",
    "df[df[\"Customer Name\"].isin([\"Customer2\", \"Customer3\"])]\n",
    "df[(df[\"Customer Name\"] == \"Customer2\") | (df[\"Customer Name\"] == \"Customer3\")]\n",
    "df[~((df[\"Customer Name\"] == \"Customer2\") | (df[\"Customer Name\"] == \"Customer3\"))]"
   ]
  },
  {
   "cell_type": "code",
   "execution_count": 101,
   "id": "cfe9a296-5b15-4804-be92-61eec971c049",
   "metadata": {},
   "outputs": [
    {
     "data": {
      "text/html": [
       "<div>\n",
       "<style scoped>\n",
       "    .dataframe tbody tr th:only-of-type {\n",
       "        vertical-align: middle;\n",
       "    }\n",
       "\n",
       "    .dataframe tbody tr th {\n",
       "        vertical-align: top;\n",
       "    }\n",
       "\n",
       "    .dataframe thead th {\n",
       "        text-align: right;\n",
       "    }\n",
       "</style>\n",
       "<table border=\"1\" class=\"dataframe\">\n",
       "  <thead>\n",
       "    <tr style=\"text-align: right;\">\n",
       "      <th></th>\n",
       "      <th>Customer Name</th>\n",
       "      <th>Account</th>\n",
       "      <th>Balance</th>\n",
       "    </tr>\n",
       "  </thead>\n",
       "  <tbody>\n",
       "    <tr>\n",
       "      <th>2023Q3</th>\n",
       "      <td>Customer3</td>\n",
       "      <td>40817978...</td>\n",
       "      <td>134354.0</td>\n",
       "    </tr>\n",
       "  </tbody>\n",
       "</table>\n",
       "</div>"
      ],
      "text/plain": [
       "       Customer Name      Account   Balance\n",
       "2023Q3     Customer3  40817978...  134354.0"
      ]
     },
     "execution_count": 101,
     "metadata": {},
     "output_type": "execute_result"
    }
   ],
   "source": [
    "df.query(\"(Balance < 500000) & (`Customer Name` == 'Customer3')\")"
   ]
  },
  {
   "cell_type": "code",
   "execution_count": 112,
   "id": "525243c9-5ba3-4603-b976-56aa5a6bc383",
   "metadata": {
    "tags": []
   },
   "outputs": [
    {
     "data": {
      "text/html": [
       "<div>\n",
       "<style scoped>\n",
       "    .dataframe tbody tr th:only-of-type {\n",
       "        vertical-align: middle;\n",
       "    }\n",
       "\n",
       "    .dataframe tbody tr th {\n",
       "        vertical-align: top;\n",
       "    }\n",
       "\n",
       "    .dataframe thead th {\n",
       "        text-align: right;\n",
       "    }\n",
       "</style>\n",
       "<table border=\"1\" class=\"dataframe\">\n",
       "  <thead>\n",
       "    <tr style=\"text-align: right;\">\n",
       "      <th></th>\n",
       "      <th>ticker</th>\n",
       "      <th>previousClose</th>\n",
       "      <th>regularMarketOpen</th>\n",
       "      <th>twoHundredDayAverage</th>\n",
       "      <th>trailingAnnualDividendYield</th>\n",
       "      <th>payoutRatio</th>\n",
       "      <th>regularMarketDayHigh</th>\n",
       "      <th>averageDailyVolume10Day</th>\n",
       "      <th>regularMarketPreviousClose</th>\n",
       "      <th>fiftyDayAverage</th>\n",
       "      <th>...</th>\n",
       "      <th>volume</th>\n",
       "      <th>fiftyTwoWeekHigh</th>\n",
       "      <th>forwardPE</th>\n",
       "      <th>fiveYearAvgDividendYield</th>\n",
       "      <th>fiftyTwoWeekLow</th>\n",
       "      <th>bid</th>\n",
       "      <th>dividendYield</th>\n",
       "      <th>bidSize</th>\n",
       "      <th>dayHigh</th>\n",
       "      <th>industry</th>\n",
       "    </tr>\n",
       "  </thead>\n",
       "  <tbody>\n",
       "    <tr>\n",
       "      <th>0</th>\n",
       "      <td>MMM</td>\n",
       "      <td>150.26</td>\n",
       "      <td>148.44</td>\n",
       "      <td>155.31915</td>\n",
       "      <td>0.039531</td>\n",
       "      <td>0.8296</td>\n",
       "      <td>148.7900</td>\n",
       "      <td>3293160.0</td>\n",
       "      <td>150.26</td>\n",
       "      <td>137.1894</td>\n",
       "      <td>...</td>\n",
       "      <td>4703606.0</td>\n",
       "      <td>198.81000</td>\n",
       "      <td>13.575506</td>\n",
       "      <td>3.15</td>\n",
       "      <td>125.60</td>\n",
       "      <td>147.00</td>\n",
       "      <td>0.0397</td>\n",
       "      <td>1100.0</td>\n",
       "      <td>148.7900</td>\n",
       "      <td>Conglomerates</td>\n",
       "    </tr>\n",
       "    <tr>\n",
       "      <th>1</th>\n",
       "      <td>AOS</td>\n",
       "      <td>64.33</td>\n",
       "      <td>63.67</td>\n",
       "      <td>68.56645</td>\n",
       "      <td>0.017099</td>\n",
       "      <td>0.3385</td>\n",
       "      <td>64.7697</td>\n",
       "      <td>594240.0</td>\n",
       "      <td>64.33</td>\n",
       "      <td>58.3420</td>\n",
       "      <td>...</td>\n",
       "      <td>590066.0</td>\n",
       "      <td>86.74000</td>\n",
       "      <td>17.307278</td>\n",
       "      <td>1.58</td>\n",
       "      <td>51.91</td>\n",
       "      <td>64.38</td>\n",
       "      <td>0.0174</td>\n",
       "      <td>800.0</td>\n",
       "      <td>64.7697</td>\n",
       "      <td>Specialty Industrial Machinery</td>\n",
       "    </tr>\n",
       "    <tr>\n",
       "      <th>2</th>\n",
       "      <td>ABT</td>\n",
       "      <td>112.03</td>\n",
       "      <td>111.63</td>\n",
       "      <td>120.03330</td>\n",
       "      <td>0.016603</td>\n",
       "      <td>0.3841</td>\n",
       "      <td>112.1300</td>\n",
       "      <td>3157960.0</td>\n",
       "      <td>112.03</td>\n",
       "      <td>108.8890</td>\n",
       "      <td>...</td>\n",
       "      <td>2874053.0</td>\n",
       "      <td>142.60000</td>\n",
       "      <td>23.621796</td>\n",
       "      <td>1.54</td>\n",
       "      <td>101.24</td>\n",
       "      <td>110.60</td>\n",
       "      <td>0.0168</td>\n",
       "      <td>800.0</td>\n",
       "      <td>112.1300</td>\n",
       "      <td>Medical Devices</td>\n",
       "    </tr>\n",
       "    <tr>\n",
       "      <th>3</th>\n",
       "      <td>ABBV</td>\n",
       "      <td>142.55</td>\n",
       "      <td>141.42</td>\n",
       "      <td>142.81995</td>\n",
       "      <td>0.038793</td>\n",
       "      <td>0.7666</td>\n",
       "      <td>142.7650</td>\n",
       "      <td>5020970.0</td>\n",
       "      <td>142.55</td>\n",
       "      <td>146.7482</td>\n",
       "      <td>...</td>\n",
       "      <td>3352316.0</td>\n",
       "      <td>175.91000</td>\n",
       "      <td>11.885715</td>\n",
       "      <td>4.28</td>\n",
       "      <td>105.56</td>\n",
       "      <td>141.49</td>\n",
       "      <td>0.0396</td>\n",
       "      <td>800.0</td>\n",
       "      <td>142.7650</td>\n",
       "      <td>Drug Manufacturers—General</td>\n",
       "    </tr>\n",
       "    <tr>\n",
       "      <th>4</th>\n",
       "      <td>ACN</td>\n",
       "      <td>320.78</td>\n",
       "      <td>317.42</td>\n",
       "      <td>327.39530</td>\n",
       "      <td>0.012096</td>\n",
       "      <td>0.3676</td>\n",
       "      <td>320.3300</td>\n",
       "      <td>1539530.0</td>\n",
       "      <td>320.78</td>\n",
       "      <td>291.0000</td>\n",
       "      <td>...</td>\n",
       "      <td>1469906.0</td>\n",
       "      <td>417.37000</td>\n",
       "      <td>26.918852</td>\n",
       "      <td>1.43</td>\n",
       "      <td>261.77</td>\n",
       "      <td>318.25</td>\n",
       "      <td>0.0121</td>\n",
       "      <td>1100.0</td>\n",
       "      <td>320.3300</td>\n",
       "      <td>Information Technology Services</td>\n",
       "    </tr>\n",
       "    <tr>\n",
       "      <th>...</th>\n",
       "      <td>...</td>\n",
       "      <td>...</td>\n",
       "      <td>...</td>\n",
       "      <td>...</td>\n",
       "      <td>...</td>\n",
       "      <td>...</td>\n",
       "      <td>...</td>\n",
       "      <td>...</td>\n",
       "      <td>...</td>\n",
       "      <td>...</td>\n",
       "      <td>...</td>\n",
       "      <td>...</td>\n",
       "      <td>...</td>\n",
       "      <td>...</td>\n",
       "      <td>...</td>\n",
       "      <td>...</td>\n",
       "      <td>...</td>\n",
       "      <td>...</td>\n",
       "      <td>...</td>\n",
       "      <td>...</td>\n",
       "      <td>...</td>\n",
       "    </tr>\n",
       "    <tr>\n",
       "      <th>440</th>\n",
       "      <td>XYL</td>\n",
       "      <td>103.96</td>\n",
       "      <td>102.79</td>\n",
       "      <td>96.64595</td>\n",
       "      <td>0.011158</td>\n",
       "      <td>0.5000</td>\n",
       "      <td>103.3600</td>\n",
       "      <td>850950.0</td>\n",
       "      <td>103.96</td>\n",
       "      <td>84.5394</td>\n",
       "      <td>...</td>\n",
       "      <td>532377.0</td>\n",
       "      <td>138.78000</td>\n",
       "      <td>32.379745</td>\n",
       "      <td>1.14</td>\n",
       "      <td>72.08</td>\n",
       "      <td>102.33</td>\n",
       "      <td>0.0115</td>\n",
       "      <td>900.0</td>\n",
       "      <td>103.3600</td>\n",
       "      <td>Specialty Industrial Machinery</td>\n",
       "    </tr>\n",
       "    <tr>\n",
       "      <th>441</th>\n",
       "      <td>YUM</td>\n",
       "      <td>119.04</td>\n",
       "      <td>117.56</td>\n",
       "      <td>121.69080</td>\n",
       "      <td>0.008989</td>\n",
       "      <td>0.4289</td>\n",
       "      <td>119.5750</td>\n",
       "      <td>1832010.0</td>\n",
       "      <td>119.04</td>\n",
       "      <td>117.0246</td>\n",
       "      <td>...</td>\n",
       "      <td>1779524.0</td>\n",
       "      <td>139.85000</td>\n",
       "      <td>22.057407</td>\n",
       "      <td>1.68</td>\n",
       "      <td>108.37</td>\n",
       "      <td>119.05</td>\n",
       "      <td>0.0192</td>\n",
       "      <td>1800.0</td>\n",
       "      <td>119.5750</td>\n",
       "      <td>Restaurants</td>\n",
       "    </tr>\n",
       "    <tr>\n",
       "      <th>442</th>\n",
       "      <td>ZBH</td>\n",
       "      <td>116.12</td>\n",
       "      <td>115.23</td>\n",
       "      <td>119.23954</td>\n",
       "      <td>0.008267</td>\n",
       "      <td>0.6957</td>\n",
       "      <td>115.8200</td>\n",
       "      <td>805320.0</td>\n",
       "      <td>116.12</td>\n",
       "      <td>109.2288</td>\n",
       "      <td>...</td>\n",
       "      <td>679062.0</td>\n",
       "      <td>149.28156</td>\n",
       "      <td>16.078540</td>\n",
       "      <td>0.75</td>\n",
       "      <td>100.39</td>\n",
       "      <td>112.95</td>\n",
       "      <td>0.0083</td>\n",
       "      <td>1100.0</td>\n",
       "      <td>115.8200</td>\n",
       "      <td>Medical Devices</td>\n",
       "    </tr>\n",
       "    <tr>\n",
       "      <th>443</th>\n",
       "      <td>ZION</td>\n",
       "      <td>58.58</td>\n",
       "      <td>57.84</td>\n",
       "      <td>61.41240</td>\n",
       "      <td>0.025947</td>\n",
       "      <td>0.2831</td>\n",
       "      <td>59.1100</td>\n",
       "      <td>1120920.0</td>\n",
       "      <td>58.58</td>\n",
       "      <td>53.1696</td>\n",
       "      <td>...</td>\n",
       "      <td>1371000.0</td>\n",
       "      <td>75.44000</td>\n",
       "      <td>8.998466</td>\n",
       "      <td>2.45</td>\n",
       "      <td>47.92</td>\n",
       "      <td>58.64</td>\n",
       "      <td>0.0278</td>\n",
       "      <td>1000.0</td>\n",
       "      <td>59.1100</td>\n",
       "      <td>Banks—Regional</td>\n",
       "    </tr>\n",
       "    <tr>\n",
       "      <th>444</th>\n",
       "      <td>ZTS</td>\n",
       "      <td>171.79</td>\n",
       "      <td>171.70</td>\n",
       "      <td>192.87660</td>\n",
       "      <td>0.006694</td>\n",
       "      <td>0.2608</td>\n",
       "      <td>174.7400</td>\n",
       "      <td>1560490.0</td>\n",
       "      <td>171.79</td>\n",
       "      <td>172.3620</td>\n",
       "      <td>...</td>\n",
       "      <td>1367159.0</td>\n",
       "      <td>249.27000</td>\n",
       "      <td>30.045298</td>\n",
       "      <td>0.54</td>\n",
       "      <td>154.18</td>\n",
       "      <td>172.46</td>\n",
       "      <td>0.0076</td>\n",
       "      <td>900.0</td>\n",
       "      <td>174.7400</td>\n",
       "      <td>Drug Manufacturers—Specialty &amp; Generic</td>\n",
       "    </tr>\n",
       "  </tbody>\n",
       "</table>\n",
       "<p>445 rows × 36 columns</p>\n",
       "</div>"
      ],
      "text/plain": [
       "    ticker  previousClose  regularMarketOpen  twoHundredDayAverage  \\\n",
       "0      MMM         150.26             148.44             155.31915   \n",
       "1      AOS          64.33              63.67              68.56645   \n",
       "2      ABT         112.03             111.63             120.03330   \n",
       "3     ABBV         142.55             141.42             142.81995   \n",
       "4      ACN         320.78             317.42             327.39530   \n",
       "..     ...            ...                ...                   ...   \n",
       "440    XYL         103.96             102.79              96.64595   \n",
       "441    YUM         119.04             117.56             121.69080   \n",
       "442    ZBH         116.12             115.23             119.23954   \n",
       "443   ZION          58.58              57.84              61.41240   \n",
       "444    ZTS         171.79             171.70             192.87660   \n",
       "\n",
       "     trailingAnnualDividendYield  payoutRatio  regularMarketDayHigh  \\\n",
       "0                       0.039531       0.8296              148.7900   \n",
       "1                       0.017099       0.3385               64.7697   \n",
       "2                       0.016603       0.3841              112.1300   \n",
       "3                       0.038793       0.7666              142.7650   \n",
       "4                       0.012096       0.3676              320.3300   \n",
       "..                           ...          ...                   ...   \n",
       "440                     0.011158       0.5000              103.3600   \n",
       "441                     0.008989       0.4289              119.5750   \n",
       "442                     0.008267       0.6957              115.8200   \n",
       "443                     0.025947       0.2831               59.1100   \n",
       "444                     0.006694       0.2608              174.7400   \n",
       "\n",
       "     averageDailyVolume10Day  regularMarketPreviousClose  fiftyDayAverage  \\\n",
       "0                  3293160.0                      150.26         137.1894   \n",
       "1                   594240.0                       64.33          58.3420   \n",
       "2                  3157960.0                      112.03         108.8890   \n",
       "3                  5020970.0                      142.55         146.7482   \n",
       "4                  1539530.0                      320.78         291.0000   \n",
       "..                       ...                         ...              ...   \n",
       "440                 850950.0                      103.96          84.5394   \n",
       "441                1832010.0                      119.04         117.0246   \n",
       "442                 805320.0                      116.12         109.2288   \n",
       "443                1120920.0                       58.58          53.1696   \n",
       "444                1560490.0                      171.79         172.3620   \n",
       "\n",
       "     ...     volume  fiftyTwoWeekHigh  forwardPE  fiveYearAvgDividendYield  \\\n",
       "0    ...  4703606.0         198.81000  13.575506                      3.15   \n",
       "1    ...   590066.0          86.74000  17.307278                      1.58   \n",
       "2    ...  2874053.0         142.60000  23.621796                      1.54   \n",
       "3    ...  3352316.0         175.91000  11.885715                      4.28   \n",
       "4    ...  1469906.0         417.37000  26.918852                      1.43   \n",
       "..   ...        ...               ...        ...                       ...   \n",
       "440  ...   532377.0         138.78000  32.379745                      1.14   \n",
       "441  ...  1779524.0         139.85000  22.057407                      1.68   \n",
       "442  ...   679062.0         149.28156  16.078540                      0.75   \n",
       "443  ...  1371000.0          75.44000   8.998466                      2.45   \n",
       "444  ...  1367159.0         249.27000  30.045298                      0.54   \n",
       "\n",
       "    fiftyTwoWeekLow     bid  dividendYield  bidSize   dayHigh  \\\n",
       "0            125.60  147.00         0.0397   1100.0  148.7900   \n",
       "1             51.91   64.38         0.0174    800.0   64.7697   \n",
       "2            101.24  110.60         0.0168    800.0  112.1300   \n",
       "3            105.56  141.49         0.0396    800.0  142.7650   \n",
       "4            261.77  318.25         0.0121   1100.0  320.3300   \n",
       "..              ...     ...            ...      ...       ...   \n",
       "440           72.08  102.33         0.0115    900.0  103.3600   \n",
       "441          108.37  119.05         0.0192   1800.0  119.5750   \n",
       "442          100.39  112.95         0.0083   1100.0  115.8200   \n",
       "443           47.92   58.64         0.0278   1000.0   59.1100   \n",
       "444          154.18  172.46         0.0076    900.0  174.7400   \n",
       "\n",
       "                                   industry  \n",
       "0                             Conglomerates  \n",
       "1            Specialty Industrial Machinery  \n",
       "2                           Medical Devices  \n",
       "3                Drug Manufacturers—General  \n",
       "4           Information Technology Services  \n",
       "..                                      ...  \n",
       "440          Specialty Industrial Machinery  \n",
       "441                             Restaurants  \n",
       "442                         Medical Devices  \n",
       "443                          Banks—Regional  \n",
       "444  Drug Manufacturers—Specialty & Generic  \n",
       "\n",
       "[445 rows x 36 columns]"
      ]
     },
     "execution_count": 112,
     "metadata": {},
     "output_type": "execute_result"
    }
   ],
   "source": [
    "sp500 = pd.read_csv(\"http://glebvasiliev.com/sp500.csv\")\n",
    "sp500"
   ]
  },
  {
   "cell_type": "code",
   "execution_count": 103,
   "id": "e88d461d-6745-41bd-b0bd-92034559021f",
   "metadata": {},
   "outputs": [
    {
     "data": {
      "text/plain": [
       "20"
      ]
     },
     "execution_count": 103,
     "metadata": {},
     "output_type": "execute_result"
    }
   ],
   "source": [
    "pd.get_option(\"display.max_columns\")"
   ]
  },
  {
   "cell_type": "code",
   "execution_count": 113,
   "id": "68c3d98d-00fd-47a1-a8fe-e21e54b1cec3",
   "metadata": {},
   "outputs": [
    {
     "data": {
      "text/plain": [
       "(445, 36)"
      ]
     },
     "execution_count": 113,
     "metadata": {},
     "output_type": "execute_result"
    }
   ],
   "source": [
    "sp500\n",
    "#pd.set_option(\"display.max_columns\", None)\n",
    "\n",
    "sp500.head(10)\n",
    "#sp500.info()\n",
    "sp500.shape\n",
    "sp500.describe(include=\"all\")\n",
    "#help(pd.DataFrame.describe)\n",
    "sp500.shape"
   ]
  },
  {
   "cell_type": "code",
   "execution_count": null,
   "id": "04f1bfef-a4da-4a8d-b5e5-8795f8d1f792",
   "metadata": {},
   "outputs": [],
   "source": []
  }
 ],
 "metadata": {
  "kernelspec": {
   "display_name": "Python 3 (ipykernel)",
   "language": "python",
   "name": "python3"
  },
  "language_info": {
   "codemirror_mode": {
    "name": "ipython",
    "version": 3
   },
   "file_extension": ".py",
   "mimetype": "text/x-python",
   "name": "python",
   "nbconvert_exporter": "python",
   "pygments_lexer": "ipython3",
   "version": "3.9.13"
  }
 },
 "nbformat": 4,
 "nbformat_minor": 5
}
