{
 "cells": [
  {
   "cell_type": "code",
   "execution_count": 1,
   "id": "7b2ba237-880a-4a1b-aa9a-55bb35cde129",
   "metadata": {
    "tags": []
   },
   "outputs": [],
   "source": [
    "import pandas as pd\n",
    "from sqlalchemy import create_engine, text"
   ]
  },
  {
   "cell_type": "code",
   "execution_count": 2,
   "id": "3c32dec8-7545-42e3-af27-9a90af9d0d5b",
   "metadata": {
    "tags": []
   },
   "outputs": [],
   "source": [
    "engine = create_engine(\"sqlite:///database.db\")\n",
    "#engine = create_engine(\"sqlite:///:memory:\")"
   ]
  },
  {
   "cell_type": "code",
   "execution_count": 3,
   "id": "81d2da67-b2a2-4f10-b568-767d6ac0e825",
   "metadata": {
    "tags": []
   },
   "outputs": [],
   "source": [
    "conn = engine.connect()"
   ]
  },
  {
   "cell_type": "code",
   "execution_count": 5,
   "id": "cfc7974d-5de9-4a9d-9cbe-c410d7296a7d",
   "metadata": {
    "tags": []
   },
   "outputs": [
    {
     "data": {
      "text/plain": [
       "2"
      ]
     },
     "execution_count": 5,
     "metadata": {},
     "output_type": "execute_result"
    }
   ],
   "source": [
    "pd.DataFrame({\"first_var\": [1, 2],\n",
    "             \"second_var\": [\"a\", \"b\"]}).to_sql(\"super_table\", conn)"
   ]
  },
  {
   "cell_type": "code",
   "execution_count": 6,
   "id": "22470925-2b84-446d-9c93-5a05a5fdd35b",
   "metadata": {
    "tags": []
   },
   "outputs": [
    {
     "data": {
      "text/html": [
       "<div>\n",
       "<style scoped>\n",
       "    .dataframe tbody tr th:only-of-type {\n",
       "        vertical-align: middle;\n",
       "    }\n",
       "\n",
       "    .dataframe tbody tr th {\n",
       "        vertical-align: top;\n",
       "    }\n",
       "\n",
       "    .dataframe thead th {\n",
       "        text-align: right;\n",
       "    }\n",
       "</style>\n",
       "<table border=\"1\" class=\"dataframe\">\n",
       "  <thead>\n",
       "    <tr style=\"text-align: right;\">\n",
       "      <th></th>\n",
       "      <th>index</th>\n",
       "      <th>first_var</th>\n",
       "      <th>second_var</th>\n",
       "    </tr>\n",
       "  </thead>\n",
       "  <tbody>\n",
       "    <tr>\n",
       "      <th>0</th>\n",
       "      <td>0</td>\n",
       "      <td>1</td>\n",
       "      <td>a</td>\n",
       "    </tr>\n",
       "    <tr>\n",
       "      <th>1</th>\n",
       "      <td>1</td>\n",
       "      <td>2</td>\n",
       "      <td>b</td>\n",
       "    </tr>\n",
       "  </tbody>\n",
       "</table>\n",
       "</div>"
      ],
      "text/plain": [
       "   index  first_var second_var\n",
       "0      0          1          a\n",
       "1      1          2          b"
      ]
     },
     "execution_count": 6,
     "metadata": {},
     "output_type": "execute_result"
    }
   ],
   "source": [
    "pd.read_sql_table(\"super_table\", conn)"
   ]
  },
  {
   "cell_type": "code",
   "execution_count": 10,
   "id": "d7de68d4-7cf8-4932-a2fb-ae65649eec6b",
   "metadata": {
    "tags": []
   },
   "outputs": [
    {
     "data": {
      "text/html": [
       "<div>\n",
       "<style scoped>\n",
       "    .dataframe tbody tr th:only-of-type {\n",
       "        vertical-align: middle;\n",
       "    }\n",
       "\n",
       "    .dataframe tbody tr th {\n",
       "        vertical-align: top;\n",
       "    }\n",
       "\n",
       "    .dataframe thead th {\n",
       "        text-align: right;\n",
       "    }\n",
       "</style>\n",
       "<table border=\"1\" class=\"dataframe\">\n",
       "  <thead>\n",
       "    <tr style=\"text-align: right;\">\n",
       "      <th></th>\n",
       "      <th>second_var</th>\n",
       "    </tr>\n",
       "  </thead>\n",
       "  <tbody>\n",
       "    <tr>\n",
       "      <th>0</th>\n",
       "      <td>b</td>\n",
       "    </tr>\n",
       "    <tr>\n",
       "      <th>1</th>\n",
       "      <td>a</td>\n",
       "    </tr>\n",
       "  </tbody>\n",
       "</table>\n",
       "</div>"
      ],
      "text/plain": [
       "  second_var\n",
       "0          b\n",
       "1          a"
      ]
     },
     "execution_count": 10,
     "metadata": {},
     "output_type": "execute_result"
    }
   ],
   "source": [
    "pd.read_sql_query(text(\"SELECT second_var FROM super_table ORDER BY second_var DESC\"), conn)"
   ]
  },
  {
   "cell_type": "code",
   "execution_count": 11,
   "id": "fd74410e-609d-47c2-a0c8-15b237b79ac6",
   "metadata": {
    "tags": []
   },
   "outputs": [],
   "source": [
    "conn.close()"
   ]
  },
  {
   "cell_type": "markdown",
   "id": "cb7605e1-2aad-4d8d-b646-d24f6afd80a6",
   "metadata": {},
   "source": [
    "## Dates and Times"
   ]
  },
  {
   "cell_type": "code",
   "execution_count": 12,
   "id": "76b36544-3673-4d5a-8212-860882de3e85",
   "metadata": {
    "tags": []
   },
   "outputs": [],
   "source": [
    "from datetime import date, timedelta\n",
    "from dateutil.relativedelta import *\n",
    "from dateutil.parser import *"
   ]
  },
  {
   "cell_type": "code",
   "execution_count": 14,
   "id": "fc47a8f1-38bd-40c2-b78c-41143272f535",
   "metadata": {
    "tags": []
   },
   "outputs": [
    {
     "data": {
      "text/plain": [
       "2"
      ]
     },
     "execution_count": 14,
     "metadata": {},
     "output_type": "execute_result"
    }
   ],
   "source": [
    "date.today().weekday()"
   ]
  },
  {
   "cell_type": "code",
   "execution_count": 17,
   "id": "cbb4f80c-9326-4fa0-bf10-2a1819b3067c",
   "metadata": {
    "tags": []
   },
   "outputs": [
    {
     "data": {
      "text/plain": [
       "datetime.date(2023, 12, 8)"
      ]
     },
     "execution_count": 17,
     "metadata": {},
     "output_type": "execute_result"
    }
   ],
   "source": [
    "date.today() + relativedelta(months=1)\n",
    "date.today() + relativedelta(months=-1)\n",
    "date.today() - relativedelta(months=-1)"
   ]
  },
  {
   "cell_type": "code",
   "execution_count": 19,
   "id": "4aef519b-61b0-4ff6-9649-f3d4f63c5818",
   "metadata": {
    "tags": []
   },
   "outputs": [
    {
     "data": {
      "text/plain": [
       "datetime.date(2024, 3, 29)"
      ]
     },
     "execution_count": 19,
     "metadata": {},
     "output_type": "execute_result"
    }
   ],
   "source": [
    "date(2024, 1, 30) + relativedelta(months=1)\n",
    "date(2024, 2, 29) + relativedelta(months=1)"
   ]
  },
  {
   "cell_type": "code",
   "execution_count": 22,
   "id": "deac8997-cd24-4b33-8701-9870014336e7",
   "metadata": {
    "tags": []
   },
   "outputs": [
    {
     "data": {
      "text/plain": [
       "datetime.date(2023, 11, 21)"
      ]
     },
     "execution_count": 22,
     "metadata": {},
     "output_type": "execute_result"
    }
   ],
   "source": [
    "date.today() + relativedelta(weeks=1, weekday=TU)"
   ]
  },
  {
   "cell_type": "code",
   "execution_count": 26,
   "id": "9b92cd3a-3325-4ff2-81f6-f7127c2ce6ff",
   "metadata": {
    "collapsed": true,
    "jupyter": {
     "outputs_hidden": true
    },
    "tags": []
   },
   "outputs": [
    {
     "ename": "ParserError",
     "evalue": "Unknown string format: novem 01-2023",
     "output_type": "error",
     "traceback": [
      "\u001b[0;31m---------------------------------------------------------------------------\u001b[0m",
      "\u001b[0;31mParserError\u001b[0m                               Traceback (most recent call last)",
      "Cell \u001b[0;32mIn[26], line 4\u001b[0m\n\u001b[1;32m      2\u001b[0m parse(\u001b[38;5;124m\"\u001b[39m\u001b[38;5;124mnov 1 2023\u001b[39m\u001b[38;5;124m\"\u001b[39m)\n\u001b[1;32m      3\u001b[0m parse(\u001b[38;5;124m\"\u001b[39m\u001b[38;5;124mnovember 01-2023\u001b[39m\u001b[38;5;124m\"\u001b[39m)\n\u001b[0;32m----> 4\u001b[0m parse(\u001b[38;5;124m\"\u001b[39m\u001b[38;5;124mnovem 01-2023\u001b[39m\u001b[38;5;124m\"\u001b[39m)\n",
      "File \u001b[0;32m~/anaconda3/lib/python3.11/site-packages/dateutil/parser/_parser.py:1368\u001b[0m, in \u001b[0;36mparse\u001b[0;34m(timestr, parserinfo, **kwargs)\u001b[0m\n\u001b[1;32m   1366\u001b[0m     \u001b[38;5;28;01mreturn\u001b[39;00m parser(parserinfo)\u001b[38;5;241m.\u001b[39mparse(timestr, \u001b[38;5;241m*\u001b[39m\u001b[38;5;241m*\u001b[39mkwargs)\n\u001b[1;32m   1367\u001b[0m \u001b[38;5;28;01melse\u001b[39;00m:\n\u001b[0;32m-> 1368\u001b[0m     \u001b[38;5;28;01mreturn\u001b[39;00m DEFAULTPARSER\u001b[38;5;241m.\u001b[39mparse(timestr, \u001b[38;5;241m*\u001b[39m\u001b[38;5;241m*\u001b[39mkwargs)\n",
      "File \u001b[0;32m~/anaconda3/lib/python3.11/site-packages/dateutil/parser/_parser.py:643\u001b[0m, in \u001b[0;36mparser.parse\u001b[0;34m(self, timestr, default, ignoretz, tzinfos, **kwargs)\u001b[0m\n\u001b[1;32m    640\u001b[0m res, skipped_tokens \u001b[38;5;241m=\u001b[39m \u001b[38;5;28mself\u001b[39m\u001b[38;5;241m.\u001b[39m_parse(timestr, \u001b[38;5;241m*\u001b[39m\u001b[38;5;241m*\u001b[39mkwargs)\n\u001b[1;32m    642\u001b[0m \u001b[38;5;28;01mif\u001b[39;00m res \u001b[38;5;129;01mis\u001b[39;00m \u001b[38;5;28;01mNone\u001b[39;00m:\n\u001b[0;32m--> 643\u001b[0m     \u001b[38;5;28;01mraise\u001b[39;00m ParserError(\u001b[38;5;124m\"\u001b[39m\u001b[38;5;124mUnknown string format: \u001b[39m\u001b[38;5;132;01m%s\u001b[39;00m\u001b[38;5;124m\"\u001b[39m, timestr)\n\u001b[1;32m    645\u001b[0m \u001b[38;5;28;01mif\u001b[39;00m \u001b[38;5;28mlen\u001b[39m(res) \u001b[38;5;241m==\u001b[39m \u001b[38;5;241m0\u001b[39m:\n\u001b[1;32m    646\u001b[0m     \u001b[38;5;28;01mraise\u001b[39;00m ParserError(\u001b[38;5;124m\"\u001b[39m\u001b[38;5;124mString does not contain a date: \u001b[39m\u001b[38;5;132;01m%s\u001b[39;00m\u001b[38;5;124m\"\u001b[39m, timestr)\n",
      "\u001b[0;31mParserError\u001b[0m: Unknown string format: novem 01-2023"
     ]
    }
   ],
   "source": [
    "parse(\"1 nov 2023\")\n",
    "parse(\"nov 1 2023\")\n",
    "parse(\"november 01-2023\")\n",
    "parse(\"novem 01-2023\")"
   ]
  },
  {
   "cell_type": "code",
   "execution_count": 27,
   "id": "4333bd92-2be0-4b49-a7c2-9052d8e5bf2c",
   "metadata": {
    "tags": []
   },
   "outputs": [],
   "source": [
    "markets = pd.read_csv(\"http://glebvasiliev.com/indexdata.csv\", parse_dates=[\"Date\"])\n",
    "markets2 = pd.read_csv(\"http://glebvasiliev.com/indexdata.csv\")"
   ]
  },
  {
   "cell_type": "code",
   "execution_count": 29,
   "id": "cd1ead24-aee3-4aad-a6b3-73f048a9f58d",
   "metadata": {
    "collapsed": true,
    "jupyter": {
     "outputs_hidden": true
    },
    "tags": []
   },
   "outputs": [
    {
     "name": "stdout",
     "output_type": "stream",
     "text": [
      "<class 'pandas.core.frame.DataFrame'>\n",
      "RangeIndex: 104224 entries, 0 to 104223\n",
      "Data columns (total 9 columns):\n",
      " #   Column     Non-Null Count   Dtype         \n",
      "---  ------     --------------   -----         \n",
      " 0   Index      104224 non-null  object        \n",
      " 1   Date       104224 non-null  datetime64[ns]\n",
      " 2   Open       104224 non-null  float64       \n",
      " 3   High       104224 non-null  float64       \n",
      " 4   Low        104224 non-null  float64       \n",
      " 5   Close      104224 non-null  float64       \n",
      " 6   Adj Close  104224 non-null  float64       \n",
      " 7   Volume     104224 non-null  float64       \n",
      " 8   CloseUSD   104224 non-null  float64       \n",
      "dtypes: datetime64[ns](1), float64(7), object(1)\n",
      "memory usage: 7.2+ MB\n",
      "<class 'pandas.core.frame.DataFrame'>\n",
      "RangeIndex: 104224 entries, 0 to 104223\n",
      "Data columns (total 9 columns):\n",
      " #   Column     Non-Null Count   Dtype  \n",
      "---  ------     --------------   -----  \n",
      " 0   Index      104224 non-null  object \n",
      " 1   Date       104224 non-null  object \n",
      " 2   Open       104224 non-null  float64\n",
      " 3   High       104224 non-null  float64\n",
      " 4   Low        104224 non-null  float64\n",
      " 5   Close      104224 non-null  float64\n",
      " 6   Adj Close  104224 non-null  float64\n",
      " 7   Volume     104224 non-null  float64\n",
      " 8   CloseUSD   104224 non-null  float64\n",
      "dtypes: float64(7), object(2)\n",
      "memory usage: 7.2+ MB\n"
     ]
    }
   ],
   "source": [
    "markets.info()\n",
    "markets2.info()"
   ]
  },
  {
   "cell_type": "code",
   "execution_count": 33,
   "id": "e6ee480f-ef65-4bc0-946e-b3223128840f",
   "metadata": {
    "collapsed": true,
    "jupyter": {
     "outputs_hidden": true
    },
    "tags": []
   },
   "outputs": [
    {
     "data": {
      "text/html": [
       "<div>\n",
       "<style scoped>\n",
       "    .dataframe tbody tr th:only-of-type {\n",
       "        vertical-align: middle;\n",
       "    }\n",
       "\n",
       "    .dataframe tbody tr th {\n",
       "        vertical-align: top;\n",
       "    }\n",
       "\n",
       "    .dataframe thead tr th {\n",
       "        text-align: left;\n",
       "    }\n",
       "\n",
       "    .dataframe thead tr:last-of-type th {\n",
       "        text-align: right;\n",
       "    }\n",
       "</style>\n",
       "<table border=\"1\" class=\"dataframe\">\n",
       "  <thead>\n",
       "    <tr>\n",
       "      <th></th>\n",
       "      <th></th>\n",
       "      <th colspan=\"10\" halign=\"left\">Open</th>\n",
       "      <th>...</th>\n",
       "      <th colspan=\"10\" halign=\"left\">Date</th>\n",
       "    </tr>\n",
       "    <tr>\n",
       "      <th></th>\n",
       "      <th></th>\n",
       "      <th colspan=\"4\" halign=\"left\">min</th>\n",
       "      <th colspan=\"4\" halign=\"left\">max</th>\n",
       "      <th colspan=\"2\" halign=\"left\">mean</th>\n",
       "      <th>...</th>\n",
       "      <th colspan=\"2\" halign=\"left\">min</th>\n",
       "      <th colspan=\"4\" halign=\"left\">max</th>\n",
       "      <th colspan=\"4\" halign=\"left\">mean</th>\n",
       "    </tr>\n",
       "    <tr>\n",
       "      <th></th>\n",
       "      <th></th>\n",
       "      <th>Open</th>\n",
       "      <th>High</th>\n",
       "      <th>Close</th>\n",
       "      <th>Low</th>\n",
       "      <th>Open</th>\n",
       "      <th>High</th>\n",
       "      <th>Close</th>\n",
       "      <th>Low</th>\n",
       "      <th>Open</th>\n",
       "      <th>High</th>\n",
       "      <th>...</th>\n",
       "      <th>Close</th>\n",
       "      <th>Low</th>\n",
       "      <th>Open</th>\n",
       "      <th>High</th>\n",
       "      <th>Close</th>\n",
       "      <th>Low</th>\n",
       "      <th>Open</th>\n",
       "      <th>High</th>\n",
       "      <th>Close</th>\n",
       "      <th>Low</th>\n",
       "    </tr>\n",
       "    <tr>\n",
       "      <th>Index</th>\n",
       "      <th>Date</th>\n",
       "      <th></th>\n",
       "      <th></th>\n",
       "      <th></th>\n",
       "      <th></th>\n",
       "      <th></th>\n",
       "      <th></th>\n",
       "      <th></th>\n",
       "      <th></th>\n",
       "      <th></th>\n",
       "      <th></th>\n",
       "      <th></th>\n",
       "      <th></th>\n",
       "      <th></th>\n",
       "      <th></th>\n",
       "      <th></th>\n",
       "      <th></th>\n",
       "      <th></th>\n",
       "      <th></th>\n",
       "      <th></th>\n",
       "      <th></th>\n",
       "      <th></th>\n",
       "    </tr>\n",
       "  </thead>\n",
       "  <tbody>\n",
       "    <tr>\n",
       "      <th rowspan=\"4\" valign=\"top\">000001.SS</th>\n",
       "      <th>1997-12-31</th>\n",
       "      <td>1064.661011</td>\n",
       "      <td>1100.385986</td>\n",
       "      <td>1041.964966</td>\n",
       "      <td>1025.130005</td>\n",
       "      <td>1260.519043</td>\n",
       "      <td>1264.489014</td>\n",
       "      <td>1256.041016</td>\n",
       "      <td>1245.744019</td>\n",
       "      <td>1169.849337</td>\n",
       "      <td>1179.578937</td>\n",
       "      <td>...</td>\n",
       "      <td>1041.964966</td>\n",
       "      <td>1025.130005</td>\n",
       "      <td>1260.519043</td>\n",
       "      <td>1264.489014</td>\n",
       "      <td>1256.041016</td>\n",
       "      <td>1245.744019</td>\n",
       "      <td>1169.849337</td>\n",
       "      <td>1179.578937</td>\n",
       "      <td>1168.374576</td>\n",
       "      <td>1156.292615</td>\n",
       "    </tr>\n",
       "    <tr>\n",
       "      <th>2007-12-31</th>\n",
       "      <td>1007.901001</td>\n",
       "      <td>1019.921997</td>\n",
       "      <td>1011.499023</td>\n",
       "      <td>998.228027</td>\n",
       "      <td>6057.428223</td>\n",
       "      <td>6124.043945</td>\n",
       "      <td>6092.057129</td>\n",
       "      <td>6040.712891</td>\n",
       "      <td>1800.587073</td>\n",
       "      <td>1816.557357</td>\n",
       "      <td>...</td>\n",
       "      <td>1011.499023</td>\n",
       "      <td>998.228027</td>\n",
       "      <td>6057.428223</td>\n",
       "      <td>6124.043945</td>\n",
       "      <td>6092.057129</td>\n",
       "      <td>6040.712891</td>\n",
       "      <td>1800.587073</td>\n",
       "      <td>1816.557357</td>\n",
       "      <td>1801.773837</td>\n",
       "      <td>1782.556701</td>\n",
       "    </tr>\n",
       "    <tr>\n",
       "      <th>2017-12-31</th>\n",
       "      <td>1671.395996</td>\n",
       "      <td>1717.100952</td>\n",
       "      <td>1706.703003</td>\n",
       "      <td>1664.925049</td>\n",
       "      <td>5507.578125</td>\n",
       "      <td>5522.777832</td>\n",
       "      <td>5497.900879</td>\n",
       "      <td>5456.929199</td>\n",
       "      <td>2790.962193</td>\n",
       "      <td>2817.314759</td>\n",
       "      <td>...</td>\n",
       "      <td>1706.703003</td>\n",
       "      <td>1664.925049</td>\n",
       "      <td>5507.578125</td>\n",
       "      <td>5522.777832</td>\n",
       "      <td>5497.900879</td>\n",
       "      <td>5456.929199</td>\n",
       "      <td>2790.962193</td>\n",
       "      <td>2817.314759</td>\n",
       "      <td>2793.432003</td>\n",
       "      <td>2763.501007</td>\n",
       "    </tr>\n",
       "    <tr>\n",
       "      <th>2027-12-31</th>\n",
       "      <td>2446.019043</td>\n",
       "      <td>2488.479004</td>\n",
       "      <td>2464.363037</td>\n",
       "      <td>2440.906982</td>\n",
       "      <td>3721.086914</td>\n",
       "      <td>3731.687012</td>\n",
       "      <td>3696.167969</td>\n",
       "      <td>3663.664063</td>\n",
       "      <td>3053.789902</td>\n",
       "      <td>3074.809044</td>\n",
       "      <td>...</td>\n",
       "      <td>2464.363037</td>\n",
       "      <td>2440.906982</td>\n",
       "      <td>3721.086914</td>\n",
       "      <td>3731.687012</td>\n",
       "      <td>3696.167969</td>\n",
       "      <td>3663.664063</td>\n",
       "      <td>3053.789902</td>\n",
       "      <td>3074.809044</td>\n",
       "      <td>3056.331556</td>\n",
       "      <td>3033.169372</td>\n",
       "    </tr>\n",
       "    <tr>\n",
       "      <th>399001.SZ</th>\n",
       "      <th>1997-12-31</th>\n",
       "      <td>3784.280029</td>\n",
       "      <td>3901.229980</td>\n",
       "      <td>3698.909912</td>\n",
       "      <td>3661.399902</td>\n",
       "      <td>4706.549805</td>\n",
       "      <td>4755.259766</td>\n",
       "      <td>4679.759766</td>\n",
       "      <td>4646.850098</td>\n",
       "      <td>4313.573607</td>\n",
       "      <td>4356.693426</td>\n",
       "      <td>...</td>\n",
       "      <td>3698.909912</td>\n",
       "      <td>3661.399902</td>\n",
       "      <td>4706.549805</td>\n",
       "      <td>4755.259766</td>\n",
       "      <td>4679.759766</td>\n",
       "      <td>4646.850098</td>\n",
       "      <td>4313.573607</td>\n",
       "      <td>4356.693426</td>\n",
       "      <td>4308.250625</td>\n",
       "      <td>4262.674131</td>\n",
       "    </tr>\n",
       "    <tr>\n",
       "      <th>...</th>\n",
       "      <th>...</th>\n",
       "      <td>...</td>\n",
       "      <td>...</td>\n",
       "      <td>...</td>\n",
       "      <td>...</td>\n",
       "      <td>...</td>\n",
       "      <td>...</td>\n",
       "      <td>...</td>\n",
       "      <td>...</td>\n",
       "      <td>...</td>\n",
       "      <td>...</td>\n",
       "      <td>...</td>\n",
       "      <td>...</td>\n",
       "      <td>...</td>\n",
       "      <td>...</td>\n",
       "      <td>...</td>\n",
       "      <td>...</td>\n",
       "      <td>...</td>\n",
       "      <td>...</td>\n",
       "      <td>...</td>\n",
       "      <td>...</td>\n",
       "      <td>...</td>\n",
       "    </tr>\n",
       "    <tr>\n",
       "      <th>SSMI</th>\n",
       "      <th>2030-12-31</th>\n",
       "      <td>10532.309570</td>\n",
       "      <td>10686.019530</td>\n",
       "      <td>10522.219730</td>\n",
       "      <td>10513.429690</td>\n",
       "      <td>11345.400390</td>\n",
       "      <td>11443.969730</td>\n",
       "      <td>11426.150390</td>\n",
       "      <td>11326.750000</td>\n",
       "      <td>10962.039578</td>\n",
       "      <td>11013.342847</td>\n",
       "      <td>...</td>\n",
       "      <td>10522.219730</td>\n",
       "      <td>10513.429690</td>\n",
       "      <td>11345.400390</td>\n",
       "      <td>11443.969730</td>\n",
       "      <td>11426.150390</td>\n",
       "      <td>11326.750000</td>\n",
       "      <td>10962.039578</td>\n",
       "      <td>11013.342847</td>\n",
       "      <td>10968.068906</td>\n",
       "      <td>10918.024624</td>\n",
       "    </tr>\n",
       "    <tr>\n",
       "      <th rowspan=\"4\" valign=\"top\">TWII</th>\n",
       "      <th>1997-12-31</th>\n",
       "      <td>7136.240234</td>\n",
       "      <td>7315.819824</td>\n",
       "      <td>7089.560059</td>\n",
       "      <td>7040.540039</td>\n",
       "      <td>10191.809570</td>\n",
       "      <td>10256.099610</td>\n",
       "      <td>10116.839840</td>\n",
       "      <td>10082.009770</td>\n",
       "      <td>8775.844846</td>\n",
       "      <td>8830.246860</td>\n",
       "      <td>...</td>\n",
       "      <td>7089.560059</td>\n",
       "      <td>7040.540039</td>\n",
       "      <td>10191.809570</td>\n",
       "      <td>10256.099610</td>\n",
       "      <td>10116.839840</td>\n",
       "      <td>10082.009770</td>\n",
       "      <td>8775.844846</td>\n",
       "      <td>8830.246860</td>\n",
       "      <td>8729.441319</td>\n",
       "      <td>8669.523811</td>\n",
       "    </tr>\n",
       "    <tr>\n",
       "      <th>2007-12-31</th>\n",
       "      <td>3475.870117</td>\n",
       "      <td>3511.379883</td>\n",
       "      <td>3446.260010</td>\n",
       "      <td>3411.679932</td>\n",
       "      <td>10311.269530</td>\n",
       "      <td>10393.589840</td>\n",
       "      <td>10202.200200</td>\n",
       "      <td>10109.849610</td>\n",
       "      <td>6582.766723</td>\n",
       "      <td>6629.428332</td>\n",
       "      <td>...</td>\n",
       "      <td>3446.260010</td>\n",
       "      <td>3411.679932</td>\n",
       "      <td>10311.269530</td>\n",
       "      <td>10393.589840</td>\n",
       "      <td>10202.200200</td>\n",
       "      <td>10109.849610</td>\n",
       "      <td>6582.766723</td>\n",
       "      <td>6629.428332</td>\n",
       "      <td>6570.890638</td>\n",
       "      <td>6523.452218</td>\n",
       "    </tr>\n",
       "    <tr>\n",
       "      <th>2017-12-31</th>\n",
       "      <td>3962.689941</td>\n",
       "      <td>4172.490234</td>\n",
       "      <td>4089.929932</td>\n",
       "      <td>3955.429932</td>\n",
       "      <td>10856.559570</td>\n",
       "      <td>10882.650390</td>\n",
       "      <td>10854.570310</td>\n",
       "      <td>10833.780270</td>\n",
       "      <td>8212.177503</td>\n",
       "      <td>8249.898165</td>\n",
       "      <td>...</td>\n",
       "      <td>4089.929932</td>\n",
       "      <td>3955.429932</td>\n",
       "      <td>10856.559570</td>\n",
       "      <td>10882.650390</td>\n",
       "      <td>10854.570310</td>\n",
       "      <td>10833.780270</td>\n",
       "      <td>8212.177503</td>\n",
       "      <td>8249.898165</td>\n",
       "      <td>8205.276248</td>\n",
       "      <td>8162.477442</td>\n",
       "    </tr>\n",
       "    <tr>\n",
       "      <th>2027-12-31</th>\n",
       "      <td>8816.860352</td>\n",
       "      <td>9029.519531</td>\n",
       "      <td>8681.339844</td>\n",
       "      <td>8523.629883</td>\n",
       "      <td>17646.929690</td>\n",
       "      <td>17709.230470</td>\n",
       "      <td>17595.900390</td>\n",
       "      <td>17548.300780</td>\n",
       "      <td>11747.231961</td>\n",
       "      <td>11806.444515</td>\n",
       "      <td>...</td>\n",
       "      <td>8681.339844</td>\n",
       "      <td>8523.629883</td>\n",
       "      <td>17646.929690</td>\n",
       "      <td>17709.230470</td>\n",
       "      <td>17595.900390</td>\n",
       "      <td>17548.300780</td>\n",
       "      <td>11747.231961</td>\n",
       "      <td>11806.444515</td>\n",
       "      <td>11747.578995</td>\n",
       "      <td>11684.145074</td>\n",
       "    </tr>\n",
       "  </tbody>\n",
       "</table>\n",
       "<p>62 rows × 60 columns</p>\n",
       "</div>"
      ],
      "text/plain": [
       "                              Open                                            \\\n",
       "                               min                                             \n",
       "                              Open          High         Close           Low   \n",
       "Index     Date                                                                 \n",
       "000001.SS 1997-12-31   1064.661011   1100.385986   1041.964966   1025.130005   \n",
       "          2007-12-31   1007.901001   1019.921997   1011.499023    998.228027   \n",
       "          2017-12-31   1671.395996   1717.100952   1706.703003   1664.925049   \n",
       "          2027-12-31   2446.019043   2488.479004   2464.363037   2440.906982   \n",
       "399001.SZ 1997-12-31   3784.280029   3901.229980   3698.909912   3661.399902   \n",
       "...                            ...           ...           ...           ...   \n",
       "SSMI      2030-12-31  10532.309570  10686.019530  10522.219730  10513.429690   \n",
       "TWII      1997-12-31   7136.240234   7315.819824   7089.560059   7040.540039   \n",
       "          2007-12-31   3475.870117   3511.379883   3446.260010   3411.679932   \n",
       "          2017-12-31   3962.689941   4172.490234   4089.929932   3955.429932   \n",
       "          2027-12-31   8816.860352   9029.519531   8681.339844   8523.629883   \n",
       "\n",
       "                                                                              \\\n",
       "                               max                                             \n",
       "                              Open          High         Close           Low   \n",
       "Index     Date                                                                 \n",
       "000001.SS 1997-12-31   1260.519043   1264.489014   1256.041016   1245.744019   \n",
       "          2007-12-31   6057.428223   6124.043945   6092.057129   6040.712891   \n",
       "          2017-12-31   5507.578125   5522.777832   5497.900879   5456.929199   \n",
       "          2027-12-31   3721.086914   3731.687012   3696.167969   3663.664063   \n",
       "399001.SZ 1997-12-31   4706.549805   4755.259766   4679.759766   4646.850098   \n",
       "...                            ...           ...           ...           ...   \n",
       "SSMI      2030-12-31  11345.400390  11443.969730  11426.150390  11326.750000   \n",
       "TWII      1997-12-31  10191.809570  10256.099610  10116.839840  10082.009770   \n",
       "          2007-12-31  10311.269530  10393.589840  10202.200200  10109.849610   \n",
       "          2017-12-31  10856.559570  10882.650390  10854.570310  10833.780270   \n",
       "          2027-12-31  17646.929690  17709.230470  17595.900390  17548.300780   \n",
       "\n",
       "                                                  ...          Date  \\\n",
       "                              mean                ...           min   \n",
       "                              Open          High  ...         Close   \n",
       "Index     Date                                    ...                 \n",
       "000001.SS 1997-12-31   1169.849337   1179.578937  ...   1041.964966   \n",
       "          2007-12-31   1800.587073   1816.557357  ...   1011.499023   \n",
       "          2017-12-31   2790.962193   2817.314759  ...   1706.703003   \n",
       "          2027-12-31   3053.789902   3074.809044  ...   2464.363037   \n",
       "399001.SZ 1997-12-31   4313.573607   4356.693426  ...   3698.909912   \n",
       "...                            ...           ...  ...           ...   \n",
       "SSMI      2030-12-31  10962.039578  11013.342847  ...  10522.219730   \n",
       "TWII      1997-12-31   8775.844846   8830.246860  ...   7089.560059   \n",
       "          2007-12-31   6582.766723   6629.428332  ...   3446.260010   \n",
       "          2017-12-31   8212.177503   8249.898165  ...   4089.929932   \n",
       "          2027-12-31  11747.231961  11806.444515  ...   8681.339844   \n",
       "\n",
       "                                                                              \\\n",
       "                                             max                               \n",
       "                               Low          Open          High         Close   \n",
       "Index     Date                                                                 \n",
       "000001.SS 1997-12-31   1025.130005   1260.519043   1264.489014   1256.041016   \n",
       "          2007-12-31    998.228027   6057.428223   6124.043945   6092.057129   \n",
       "          2017-12-31   1664.925049   5507.578125   5522.777832   5497.900879   \n",
       "          2027-12-31   2440.906982   3721.086914   3731.687012   3696.167969   \n",
       "399001.SZ 1997-12-31   3661.399902   4706.549805   4755.259766   4679.759766   \n",
       "...                            ...           ...           ...           ...   \n",
       "SSMI      2030-12-31  10513.429690  11345.400390  11443.969730  11426.150390   \n",
       "TWII      1997-12-31   7040.540039  10191.809570  10256.099610  10116.839840   \n",
       "          2007-12-31   3411.679932  10311.269530  10393.589840  10202.200200   \n",
       "          2017-12-31   3955.429932  10856.559570  10882.650390  10854.570310   \n",
       "          2027-12-31   8523.629883  17646.929690  17709.230470  17595.900390   \n",
       "\n",
       "                                                                              \\\n",
       "                                            mean                               \n",
       "                               Low          Open          High         Close   \n",
       "Index     Date                                                                 \n",
       "000001.SS 1997-12-31   1245.744019   1169.849337   1179.578937   1168.374576   \n",
       "          2007-12-31   6040.712891   1800.587073   1816.557357   1801.773837   \n",
       "          2017-12-31   5456.929199   2790.962193   2817.314759   2793.432003   \n",
       "          2027-12-31   3663.664063   3053.789902   3074.809044   3056.331556   \n",
       "399001.SZ 1997-12-31   4646.850098   4313.573607   4356.693426   4308.250625   \n",
       "...                            ...           ...           ...           ...   \n",
       "SSMI      2030-12-31  11326.750000  10962.039578  11013.342847  10968.068906   \n",
       "TWII      1997-12-31  10082.009770   8775.844846   8830.246860   8729.441319   \n",
       "          2007-12-31  10109.849610   6582.766723   6629.428332   6570.890638   \n",
       "          2017-12-31  10833.780270   8212.177503   8249.898165   8205.276248   \n",
       "          2027-12-31  17548.300780  11747.231961  11806.444515  11747.578995   \n",
       "\n",
       "                                    \n",
       "                                    \n",
       "                               Low  \n",
       "Index     Date                      \n",
       "000001.SS 1997-12-31   1156.292615  \n",
       "          2007-12-31   1782.556701  \n",
       "          2017-12-31   2763.501007  \n",
       "          2027-12-31   3033.169372  \n",
       "399001.SZ 1997-12-31   4262.674131  \n",
       "...                            ...  \n",
       "SSMI      2030-12-31  10918.024624  \n",
       "TWII      1997-12-31   8669.523811  \n",
       "          2007-12-31   6523.452218  \n",
       "          2017-12-31   8162.477442  \n",
       "          2027-12-31  11684.145074  \n",
       "\n",
       "[62 rows x 60 columns]"
      ]
     },
     "execution_count": 33,
     "metadata": {},
     "output_type": "execute_result"
    }
   ],
   "source": [
    "markets\n",
    "\n",
    "(\n",
    "markets\n",
    "    .query(\"Index == 'HSI'\")\n",
    "    .resample(\"10Y\", on=\"Date\")[[\"Open\", \"High\", \"Close\", \"Low\"]]\n",
    "    .agg([\"min\", \"max\"])\n",
    ")\n",
    "\n",
    "(\n",
    "markets\n",
    "    .groupby(\"Index\")\n",
    "    .resample(\"10Y\", on=\"Date\")[[\"Open\", \"High\", \"Close\", \"Low\"]]\n",
    "    .agg([\"min\", \"max\", \"mean\"])\n",
    "    #.asfreq() \n",
    ")"
   ]
  },
  {
   "cell_type": "code",
   "execution_count": null,
   "id": "65289a15-724a-46d3-9ecb-eb2f675a724d",
   "metadata": {},
   "outputs": [],
   "source": []
  }
 ],
 "metadata": {
  "kernelspec": {
   "display_name": "Python 3 (ipykernel)",
   "language": "python",
   "name": "python3"
  },
  "language_info": {
   "codemirror_mode": {
    "name": "ipython",
    "version": 3
   },
   "file_extension": ".py",
   "mimetype": "text/x-python",
   "name": "python",
   "nbconvert_exporter": "python",
   "pygments_lexer": "ipython3",
   "version": "3.11.0"
  }
 },
 "nbformat": 4,
 "nbformat_minor": 5
}
